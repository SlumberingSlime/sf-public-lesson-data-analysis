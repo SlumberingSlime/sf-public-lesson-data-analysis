{
 "cells": [
  {
   "cell_type": "code",
   "execution_count": 1,
   "id": "a3f52841-869a-4335-ae93-c670b96d716c",
   "metadata": {
    "execution": {
     "parties": "[\"alice\",\"bob\"]",
     "shell.execute_reply.end": "2024-07-31T08:09:03.295155Z",
     "shell.execute_reply.started": "2024-07-31T08:09:00.823999Z",
     "to_execute": "2024-07-31T08:09:00.820Z"
    },
    "libroFormatter": "formatter-string"
   },
   "outputs": [
    {
     "data": {
      "text/html": [
       "<h4>alice's Output:</h4>"
      ]
     },
     "metadata": {},
     "output_type": "display_data"
    },
    {
     "name": "stderr",
     "output_type": "stream",
     "text": [
      "2024-07-31 08:09:01,987\tINFO worker.py:1540 -- Connecting to existing Ray cluster at address: 172.19.0.3:6379...\n",
      "2024-07-31 08:09:01,996\tINFO worker.py:1724 -- Connected to Ray cluster.\n",
      "2024-07-31 08:09:02.016 INFO api.py:233 [alice] -- [Anonymous_job] Started rayfed with {'CLUSTER_ADDRESSES': {'alice': 'alice:8000', 'bob': 'bob:8000'}, 'CURRENT_PARTY_NAME': 'alice', 'TLS_CONFIG': {}}\n",
      "2024-07-31 08:09:02.652 INFO barriers.py:284 [alice] -- [Anonymous_job] Succeeded to create receiver proxy actor.\n",
      "\u001b[36m(ReceiverProxyActor pid=3063)\u001b[0m 2024-07-31 08:09:02.648 INFO grpc_proxy.py:359 [alice] -- [Anonymous_job] ReceiverProxy binding port 8000, options: (('grpc.enable_retries', 1), ('grpc.so_reuseport', 0), ('grpc.max_send_message_length', 524288000), ('grpc.max_receive_message_length', 524288000), ('grpc.service_config', '{\"methodConfig\": [{\"name\": [{\"service\": \"GrpcService\"}], \"retryPolicy\": {\"maxAttempts\": 5, \"initialBackoff\": \"5s\", \"maxBackoff\": \"30s\", \"backoffMultiplier\": 2, \"retryableStatusCodes\": [\"UNAVAILABLE\"]}}]}'))...\n",
      "\u001b[36m(ReceiverProxyActor pid=3063)\u001b[0m 2024-07-31 08:09:02.651 INFO grpc_proxy.py:379 [alice] -- [Anonymous_job] Successfully start Grpc service without credentials.\n",
      "2024-07-31 08:09:03.269 INFO barriers.py:333 [alice] -- [Anonymous_job] SenderProxyActor has successfully created.\n",
      "2024-07-31 08:09:03.270 INFO barriers.py:520 [alice] -- [Anonymous_job] Try ping ['bob'] at 0 attemp, up to 3600 attemps.\n"
     ]
    },
    {
     "data": {
      "text/html": [
       "<h4>bob's Output:</h4>"
      ]
     },
     "metadata": {},
     "output_type": "display_data"
    },
    {
     "name": "stderr",
     "output_type": "stream",
     "text": [
      "2024-07-31 08:09:01,998\tINFO worker.py:1540 -- Connecting to existing Ray cluster at address: 172.19.0.2:6379...\n",
      "2024-07-31 08:09:02,007\tINFO worker.py:1724 -- Connected to Ray cluster.\n",
      "2024-07-31 08:09:02.026 INFO api.py:233 [bob] -- [Anonymous_job] Started rayfed with {'CLUSTER_ADDRESSES': {'alice': 'alice:8000', 'bob': 'bob:8000'}, 'CURRENT_PARTY_NAME': 'bob', 'TLS_CONFIG': {}}\n",
      "2024-07-31 08:09:02.670 INFO barriers.py:284 [bob] -- [Anonymous_job] Succeeded to create receiver proxy actor.\n",
      "\u001b[36m(ReceiverProxyActor pid=1719)\u001b[0m 2024-07-31 08:09:02.667 INFO grpc_proxy.py:359 [bob] -- [Anonymous_job] ReceiverProxy binding port 8000, options: (('grpc.enable_retries', 1), ('grpc.so_reuseport', 0), ('grpc.max_send_message_length', 524288000), ('grpc.max_receive_message_length', 524288000), ('grpc.service_config', '{\"methodConfig\": [{\"name\": [{\"service\": \"GrpcService\"}], \"retryPolicy\": {\"maxAttempts\": 5, \"initialBackoff\": \"5s\", \"maxBackoff\": \"30s\", \"backoffMultiplier\": 2, \"retryableStatusCodes\": [\"UNAVAILABLE\"]}}]}'))...\n",
      "\u001b[36m(ReceiverProxyActor pid=1719)\u001b[0m 2024-07-31 08:09:02.669 INFO grpc_proxy.py:379 [bob] -- [Anonymous_job] Successfully start Grpc service without credentials.\n",
      "2024-07-31 08:09:03.281 INFO barriers.py:333 [bob] -- [Anonymous_job] SenderProxyActor has successfully created.\n",
      "2024-07-31 08:09:03.282 INFO barriers.py:520 [bob] -- [Anonymous_job] Try ping ['alice'] at 0 attemp, up to 3600 attemps.\n"
     ]
    }
   ],
   "source": [
    "import time\n",
    "import secretflow as sf\n",
    "import spu\n",
    "import os\n",
    "\n",
    "start = time.perf_counter()\n",
    "\n",
    "network_conf = {\n",
    "    \"parties\": {\n",
    "        \"alice\": {\n",
    "            \"address\": \"alice:8000\",\n",
    "        },\n",
    "        \"bob\": {\n",
    "            \"address\": \"bob:8000\",\n",
    "        },\n",
    "    },\n",
    "}\n",
    "\n",
    "party = os.getenv(\"SELF_PARTY\", \"alice\")\n",
    "sf.shutdown()\n",
    "sf.init(\n",
    "    address=\"127.0.0.1:6379\",\n",
    "    cluster_config={**network_conf, \"self_party\": party},\n",
    "    log_to_driver=True,\n",
    ")"
   ]
  },
  {
   "cell_type": "code",
   "execution_count": 2,
   "id": "6b04048d-077a-4a8d-b576-79886f45a223",
   "metadata": {
    "execution": {
     "parties": "[\"alice\",\"bob\"]",
     "shell.execute_reply.end": "2024-07-31T08:09:03.300103Z",
     "shell.execute_reply.started": "2024-07-31T08:09:03.282403Z",
     "to_execute": "2024-07-31T08:09:00.821Z"
    },
    "libroFormatter": "formatter-string"
   },
   "outputs": [],
   "source": [
    "alice, bob=sf.PYU(\"alice\"), sf.PYU(\"bob\")\n",
    "current_dir = os.getcwd()\n",
    "input_path={\n",
    "    \"alice\":f\"{current_dir}/payment.csv\",\n",
    "    \"bob\":f\"{current_dir}/record.csv\"\n",
    "}\n",
    "output_path={\n",
    "    \"alice\":f\"{current_dir}/output.csv\",\n",
    "    \"bob\":f\"{current_dir}/output.csv\"\n",
    "}"
   ]
  },
  {
   "cell_type": "code",
   "execution_count": 3,
   "id": "b2eabae0-4b46-4e1d-a069-95ee525693af",
   "metadata": {
    "execution": {
     "parties": "[\"alice\",\"bob\"]",
     "shell.execute_reply.end": "2024-07-31T08:09:03.330418Z",
     "shell.execute_reply.started": "2024-07-31T08:09:03.288156Z",
     "to_execute": "2024-07-31T08:09:00.821Z"
    },
    "libroFormatter": "formatter-string"
   },
   "outputs": [],
   "source": [
    "spu_conf = {\n",
    "    \"nodes\": [\n",
    "        {\n",
    "            \"party\": \"alice\",\n",
    "            \"address\": \"alice:8001\",\n",
    "            \"listen_addr\": \"alice:8001\",\n",
    "        },\n",
    "        {\n",
    "            \"party\": \"bob\",\n",
    "            \"address\": \"bob:8001\",\n",
    "            \"listen_addr\": \"bob:8001\",\n",
    "        },\n",
    "    ],\n",
    "    \"runtime_config\": {\n",
    "        \"protocol\": spu.spu_pb2.SEMI2K,\n",
    "        \"field\": spu.spu_pb2.FM128,\n",
    "        \"sigmoid_mode\": spu.spu_pb2.RuntimeConfig.SIGMOID_REAL,\n",
    "    },\n",
    "}\n",
    "spu_device=sf.SPU(cluster_def=spu_conf)"
   ]
  },
  {
   "cell_type": "code",
   "execution_count": 4,
   "id": "bb7fce14-9dbb-414f-9cdb-d76d3be94bd7",
   "metadata": {
    "execution": {
     "parties": "[\"alice\",\"bob\"]",
     "shell.execute_reply.end": "2024-07-31T08:09:08.730963Z",
     "shell.execute_reply.started": "2024-07-31T08:09:03.319967Z",
     "to_execute": "2024-07-31T08:09:00.821Z"
    },
    "libroFormatter": "formatter-string"
   },
   "outputs": [],
   "source": [
    "report = spu_device.psi(\n",
    "    keys={\"alice\":[\"uid\"], \"bob\":[\"uid\"]},\n",
    "    input_path=input_path,\n",
    "    output_path=output_path,\n",
    "    receiver=\"alice\",\n",
    "    broadcast_result=False,\n",
    ")"
   ]
  },
  {
   "cell_type": "code",
   "execution_count": 5,
   "id": "f235ad19-754b-40d4-b518-a2436436690f",
   "metadata": {
    "execution": {
     "parties": "[\"alice\",\"bob\"]",
     "shell.execute_reply.end": "2024-07-31T08:09:08.737670Z",
     "shell.execute_reply.started": "2024-07-31T08:09:08.732645Z",
     "to_execute": "2024-07-31T08:09:00.821Z"
    },
    "libroFormatter": "formatter-string"
   },
   "outputs": [
    {
     "data": {
      "text/html": [
       "<h4>alice's Output:</h4>"
      ]
     },
     "metadata": {},
     "output_type": "display_data"
    },
    {
     "data": {
      "text/plain": [
       "[{'party': 'alice', 'original_count': 1000000, 'intersection_count': 800000},\n",
       " {'party': 'bob', 'original_count': 1000000, 'intersection_count': -1}]"
      ]
     },
     "execution_count": 5,
     "metadata": {},
     "output_type": "execute_result"
    },
    {
     "data": {
      "text/html": [
       "<h4>bob's Output:</h4>"
      ]
     },
     "metadata": {},
     "output_type": "display_data"
    },
    {
     "data": {
      "text/plain": [
       "[{'party': 'alice', 'original_count': 1000000, 'intersection_count': 800000},\n",
       " {'party': 'bob', 'original_count': 1000000, 'intersection_count': -1}]"
      ]
     },
     "execution_count": 5,
     "metadata": {},
     "output_type": "execute_result"
    }
   ],
   "source": [
    "report"
   ]
  },
  {
   "cell_type": "code",
   "execution_count": null,
   "id": "eb245127-dab3-4b79-9d5c-3ea497291153",
   "metadata": {
    "libroFormatter": "formatter-string"
   },
   "outputs": [],
   "source": [
    "# 求交结果：800000"
   ]
  }
 ],
 "metadata": {},
 "nbformat": 4,
 "nbformat_minor": 5
}
