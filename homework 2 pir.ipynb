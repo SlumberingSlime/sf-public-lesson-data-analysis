{
 "cells": [
  {
   "cell_type": "code",
   "execution_count": 1,
   "id": "a3f52841-869a-4335-ae93-c670b96d716c",
   "metadata": {
    "execution": {
     "parties": "[\"alice\",\"bob\"]",
     "shell.execute_reply.end": "2024-07-31T13:51:30.607033Z",
     "shell.execute_reply.started": "2024-07-31T13:51:28.283513Z",
     "to_execute": "2024-07-31T13:51:28.278Z"
    },
    "libroFormatter": "formatter-string"
   },
   "outputs": [
    {
     "data": {
      "text/html": [
       "<h4>alice's Output:</h4>"
      ]
     },
     "metadata": {},
     "output_type": "display_data"
    },
    {
     "name": "stderr",
     "output_type": "stream",
     "text": [
      "2024-07-31 13:51:29,315\tINFO worker.py:1540 -- Connecting to existing Ray cluster at address: 172.19.0.3:6379...\n",
      "2024-07-31 13:51:29,377\tINFO worker.py:1724 -- Connected to Ray cluster.\n",
      "2024-07-31 13:51:29.398 INFO api.py:233 [alice] -- [Anonymous_job] Started rayfed with {'CLUSTER_ADDRESSES': {'alice': 'alice:8000', 'bob': 'bob:8000'}, 'CURRENT_PARTY_NAME': 'alice', 'TLS_CONFIG': {}}\n",
      "2024-07-31 13:51:30.023 INFO barriers.py:284 [alice] -- [Anonymous_job] Succeeded to create receiver proxy actor.\n",
      "\u001b[36m(ReceiverProxyActor pid=2764)\u001b[0m 2024-07-31 13:51:30.019 INFO grpc_proxy.py:359 [alice] -- [Anonymous_job] ReceiverProxy binding port 8000, options: (('grpc.enable_retries', 1), ('grpc.so_reuseport', 0), ('grpc.max_send_message_length', 524288000), ('grpc.max_receive_message_length', 524288000), ('grpc.service_config', '{\"methodConfig\": [{\"name\": [{\"service\": \"GrpcService\"}], \"retryPolicy\": {\"maxAttempts\": 5, \"initialBackoff\": \"5s\", \"maxBackoff\": \"30s\", \"backoffMultiplier\": 2, \"retryableStatusCodes\": [\"UNAVAILABLE\"]}}]}'))...\n",
      "\u001b[36m(ReceiverProxyActor pid=2764)\u001b[0m 2024-07-31 13:51:30.022 INFO grpc_proxy.py:379 [alice] -- [Anonymous_job] Successfully start Grpc service without credentials.\n",
      "2024-07-31 13:51:30.596 INFO barriers.py:333 [alice] -- [Anonymous_job] SenderProxyActor has successfully created.\n",
      "2024-07-31 13:51:30.597 INFO barriers.py:520 [alice] -- [Anonymous_job] Try ping ['bob'] at 0 attemp, up to 3600 attemps.\n"
     ]
    },
    {
     "data": {
      "text/html": [
       "<h4>bob's Output:</h4>"
      ]
     },
     "metadata": {},
     "output_type": "display_data"
    },
    {
     "name": "stderr",
     "output_type": "stream",
     "text": [
      "2024-07-31 13:51:29,316\tINFO worker.py:1540 -- Connecting to existing Ray cluster at address: 172.19.0.2:6379...\n",
      "2024-07-31 13:51:29,377\tINFO worker.py:1724 -- Connected to Ray cluster.\n",
      "2024-07-31 13:51:29.401 INFO api.py:233 [bob] -- [Anonymous_job] Started rayfed with {'CLUSTER_ADDRESSES': {'alice': 'alice:8000', 'bob': 'bob:8000'}, 'CURRENT_PARTY_NAME': 'bob', 'TLS_CONFIG': {}}\n",
      "2024-07-31 13:51:30.023 INFO barriers.py:284 [bob] -- [Anonymous_job] Succeeded to create receiver proxy actor.\n",
      "\u001b[36m(ReceiverProxyActor pid=2494)\u001b[0m 2024-07-31 13:51:30.019 INFO grpc_proxy.py:359 [bob] -- [Anonymous_job] ReceiverProxy binding port 8000, options: (('grpc.enable_retries', 1), ('grpc.so_reuseport', 0), ('grpc.max_send_message_length', 524288000), ('grpc.max_receive_message_length', 524288000), ('grpc.service_config', '{\"methodConfig\": [{\"name\": [{\"service\": \"GrpcService\"}], \"retryPolicy\": {\"maxAttempts\": 5, \"initialBackoff\": \"5s\", \"maxBackoff\": \"30s\", \"backoffMultiplier\": 2, \"retryableStatusCodes\": [\"UNAVAILABLE\"]}}]}'))...\n",
      "\u001b[36m(ReceiverProxyActor pid=2494)\u001b[0m 2024-07-31 13:51:30.022 INFO grpc_proxy.py:379 [bob] -- [Anonymous_job] Successfully start Grpc service without credentials.\n",
      "2024-07-31 13:51:30.597 INFO barriers.py:333 [bob] -- [Anonymous_job] SenderProxyActor has successfully created.\n",
      "2024-07-31 13:51:30.598 INFO barriers.py:520 [bob] -- [Anonymous_job] Try ping ['alice'] at 0 attemp, up to 3600 attemps.\n"
     ]
    }
   ],
   "source": [
    "import time\n",
    "import secretflow as sf\n",
    "import spu\n",
    "import os\n",
    "\n",
    "start = time.perf_counter()\n",
    "\n",
    "network_conf = {\n",
    "    \"parties\": {\n",
    "        \"alice\": {\n",
    "            \"address\": \"alice:8000\",\n",
    "        },\n",
    "        \"bob\": {\n",
    "            \"address\": \"bob:8000\",\n",
    "        },\n",
    "    },\n",
    "}\n",
    "\n",
    "party = os.getenv(\"SELF_PARTY\", \"alice\")\n",
    "sf.shutdown()\n",
    "sf.init(\n",
    "    address=\"127.0.0.1:6379\",\n",
    "    cluster_config={**network_conf, \"self_party\": party},\n",
    "    log_to_driver=True,\n",
    ")"
   ]
  },
  {
   "cell_type": "code",
   "execution_count": 2,
   "id": "6b04048d-077a-4a8d-b576-79886f45a223",
   "metadata": {
    "execution": {
     "parties": "[\"alice\",\"bob\"]",
     "shell.execute_reply.end": "2024-07-31T13:51:30.611247Z",
     "shell.execute_reply.started": "2024-07-31T13:51:30.609173Z",
     "to_execute": "2024-07-31T13:51:28.279Z"
    },
    "libroFormatter": "formatter-string"
   },
   "outputs": [],
   "source": [
    "alice, bob=sf.PYU(\"alice\"), sf.PYU(\"bob\")\n",
    "current_dir = os.getcwd()"
   ]
  },
  {
   "cell_type": "code",
   "execution_count": 3,
   "id": "b2eabae0-4b46-4e1d-a069-95ee525693af",
   "metadata": {
    "execution": {
     "parties": "[\"alice\",\"bob\"]",
     "shell.execute_reply.end": "2024-07-31T13:51:30.639352Z",
     "shell.execute_reply.started": "2024-07-31T13:51:30.612890Z",
     "to_execute": "2024-07-31T13:51:28.279Z"
    },
    "libroFormatter": "formatter-string"
   },
   "outputs": [],
   "source": [
    "spu_conf = {\n",
    "    \"nodes\": [\n",
    "        {\n",
    "            \"party\": \"alice\",\n",
    "            \"address\": \"alice:8001\",\n",
    "            \"listen_addr\": \"alice:8001\",\n",
    "        },\n",
    "        {\n",
    "            \"party\": \"bob\",\n",
    "            \"address\": \"bob:8001\",\n",
    "            \"listen_addr\": \"bob:8001\",\n",
    "        },\n",
    "    ],\n",
    "    \"runtime_config\": {\n",
    "        \"protocol\": spu.spu_pb2.SEMI2K,\n",
    "        \"field\": spu.spu_pb2.FM128,\n",
    "        \"sigmoid_mode\": spu.spu_pb2.RuntimeConfig.SIGMOID_REAL,\n",
    "    },\n",
    "}\n",
    "spu_device=sf.SPU(cluster_def=spu_conf)"
   ]
  },
  {
   "cell_type": "code",
   "execution_count": 4,
   "id": "bb7fce14-9dbb-414f-9cdb-d76d3be94bd7",
   "metadata": {
    "execution": {
     "parties": "[\"alice\",\"bob\"]",
     "shell.execute_reply.end": "2024-07-31T13:51:31.769176Z",
     "shell.execute_reply.started": "2024-07-31T13:51:30.641500Z",
     "to_execute": "2024-07-31T13:51:28.279Z"
    },
    "libroFormatter": "formatter-string"
   },
   "outputs": [],
   "source": [
    "report = spu_device.pir_query(\n",
    "    server=\"alice\",\n",
    "    client=\"bob\",\n",
    "    server_setup_path=f\"{current_dir}/pir_server_setup\",\n",
    "    client_key_columns=[\"uid\"],\n",
    "    client_input_path=f\"{current_dir}/pir_query.csv\",\n",
    "    client_output_path=f\"{current_dir}/pir_result.csv\"\n",
    ")"
   ]
  },
  {
   "cell_type": "code",
   "execution_count": 5,
   "id": "f235ad19-754b-40d4-b518-a2436436690f",
   "metadata": {
    "execution": {
     "parties": "[\"alice\",\"bob\"]",
     "shell.execute_reply.end": "2024-07-31T13:51:31.779108Z",
     "shell.execute_reply.started": "2024-07-31T13:51:31.772979Z",
     "to_execute": "2024-07-31T13:51:28.279Z"
    },
    "libroFormatter": "formatter-string"
   },
   "outputs": [
    {
     "data": {
      "text/html": [
       "<h4>alice's Output:</h4>"
      ]
     },
     "metadata": {},
     "output_type": "display_data"
    },
    {
     "data": {
      "text/plain": [
       "[{'party': 'alice', 'data_count': 1}, {'party': 'bob', 'data_count': 1}]"
      ]
     },
     "execution_count": 5,
     "metadata": {},
     "output_type": "execute_result"
    },
    {
     "data": {
      "text/html": [
       "<h4>bob's Output:</h4>"
      ]
     },
     "metadata": {},
     "output_type": "display_data"
    },
    {
     "data": {
      "text/plain": [
       "[{'party': 'alice', 'data_count': 1}, {'party': 'bob', 'data_count': 1}]"
      ]
     },
     "execution_count": 5,
     "metadata": {},
     "output_type": "execute_result"
    }
   ],
   "source": [
    "report"
   ]
  },
  {
   "cell_type": "code",
   "execution_count": 7,
   "id": "eb245127-dab3-4b79-9d5c-3ea497291153",
   "metadata": {
    "execution": {
     "parties": "[\"bob\"]",
     "shell.execute_reply.end": "2024-07-31T13:55:49.082368Z",
     "shell.execute_reply.started": "2024-07-31T13:55:48.885864Z",
     "to_execute": "2024-07-31T13:55:48.883Z"
    },
    "libroFormatter": "formatter-string"
   },
   "outputs": [
    {
     "name": "stdout",
     "output_type": "stream",
     "text": [
      "uid,ascii_free_email\n"
     ]
    }
   ],
   "source": [
    "!cat /root/workspace/pir_result.csv\n",
    "# 结果为空"
   ]
  },
  {
   "cell_type": "code",
   "execution_count": 9,
   "id": "dd9d000f-b131-4396-bb58-c71517f2623d",
   "metadata": {
    "execution": {
     "parties": "[\"alice\"]",
     "shell.execute_reply.end": "2024-07-31T13:59:34.623615Z",
     "shell.execute_reply.started": "2024-07-31T13:59:34.425749Z",
     "to_execute": "2024-07-31T13:59:34.423Z"
    },
    "libroFormatter": "formatter-string"
   },
   "outputs": [
    {
     "name": "stdout",
     "output_type": "stream",
     "text": [
      "24\n"
     ]
    }
   ],
   "source": [
    "!cat /tmp/server_secret_key.bin | wc -m"
   ]
  },
  {
   "cell_type": "code",
   "execution_count": 10,
   "id": "eb024651-89f2-40c4-afd0-1ec070665740",
   "metadata": {
    "execution": {
     "parties": "[\"alice\"]",
     "shell.execute_reply.end": "2024-07-31T14:01:57.997474Z",
     "shell.execute_reply.started": "2024-07-31T14:01:57.794136Z",
     "to_execute": "2024-07-31T14:01:57.790Z"
    },
    "libroFormatter": "formatter-string"
   },
   "outputs": [
    {
     "name": "stdout",
     "output_type": "stream",
     "text": [
      "/root/workspace/pir_server_setup:\n",
      "bucket_0  pir_meta_info\n",
      "\n",
      "/root/workspace/pir_server_setup/bucket_0:\n",
      "bundle_0  db_meta_info\n",
      "\n",
      "/root/workspace/pir_server_setup/bucket_0/bundle_0:\n",
      "000005.ldb  000021.log\tLOCK  LOG.old\n",
      "000006.ldb  CURRENT\tLOG   MANIFEST-000020\n",
      "\n",
      "/root/workspace/pir_server_setup/bucket_0/db_meta_info:\n",
      "000005.ldb  000020.log\tCURRENT  LOCK  LOG  LOG.old  MANIFEST-000019\n",
      "\n",
      "/root/workspace/pir_server_setup/pir_meta_info:\n",
      "000005.ldb  000022.log\tCURRENT  LOCK  LOG  LOG.old  MANIFEST-000021\n"
     ]
    }
   ],
   "source": [
    "!ls -R /root/workspace/pir_server_setup"
   ]
  },
  {
   "cell_type": "code",
   "execution_count": null,
   "id": "921b72c1-e4b9-47c1-be0a-90d07ed0a4ee",
   "metadata": {
    "execution": {
     "parties": "[\"alice\",\"bob\"]"
    },
    "libroFormatter": "formatter-string"
   },
   "outputs": [],
   "source": [
    "# alice的加密数据库正常、key.bin正常\n",
    "# bob的csv文件正常\n",
    "# 查询结果为空"
   ]
  }
 ],
 "metadata": {},
 "nbformat": 4,
 "nbformat_minor": 5
}
